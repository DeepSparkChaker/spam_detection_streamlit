{
 "cells": [
  {
   "cell_type": "code",
   "execution_count": 86,
   "metadata": {},
   "outputs": [
    {
     "data": {
      "text/plain": [
       "<Response [200]>"
      ]
     },
     "execution_count": 86,
     "metadata": {},
     "output_type": "execute_result"
    }
   ],
   "source": [
    "import requests as r\n",
    "# add review\n"
   ]
  },
  {
   "cell_type": "code",
   "execution_count": 87,
   "metadata": {},
   "outputs": [
    {
     "data": {
      "text/plain": [
       "['Not Fraud', 'Not Fraud']"
      ]
     },
     "execution_count": 87,
     "metadata": {},
     "output_type": "execute_result"
    }
   ],
   "source": [
    "import pandas as pd\n",
    "results=prediction.json()\n",
    "results "
   ]
  },
  {
   "cell_type": "code",
   "execution_count": 75,
   "metadata": {},
   "outputs": [
    {
     "data": {
      "text/plain": [
       "dict_values([50, 'PAYMENT', 9839.64, 'C1231006815', 170136.0, 160296.36, 'M1979787155', 0.0, 0.0])"
      ]
     },
     "execution_count": 75,
     "metadata": {},
     "output_type": "execute_result"
    }
   ],
   "source": [
    "results.values()"
   ]
  },
  {
   "cell_type": "code",
   "execution_count": 5,
   "metadata": {},
   "outputs": [
    {
     "data": {
      "text/plain": [
       "<Response [200]>"
      ]
     },
     "execution_count": 5,
     "metadata": {},
     "output_type": "execute_result"
    }
   ],
   "source": [
    "import requests as r\n",
    "item ={\n",
    "  \"Age\": \n",
    "    47\n",
    "  ,\n",
    "  \"Sex\": \n",
    "    \"F\"\n",
    "  ,\n",
    "  \"BP\": \n",
    "    \"LOW\"\n",
    "  ,\n",
    "  \"Cholesterol\": \n",
    "     \"HIGH\"\n",
    "  ,\n",
    "  \"Na_to_K\": \n",
    "    14 \n",
    "}\n",
    "prediction = r.post(\"http://127.0.0.1:4000/predict-fraud\",  json=item)\n",
    "prediction"
   ]
  },
  {
   "cell_type": "code",
   "execution_count": 6,
   "metadata": {},
   "outputs": [
    {
     "data": {
      "text/plain": [
       "'drugC'"
      ]
     },
     "execution_count": 6,
     "metadata": {},
     "output_type": "execute_result"
    }
   ],
   "source": [
    "results=prediction.json()\n",
    "results "
   ]
  },
  {
   "cell_type": "code",
   "execution_count": 7,
   "metadata": {},
   "outputs": [
    {
     "data": {
      "application/vnd.jupyter.widget-view+json": {
       "model_id": "c48a527716764606b1eaac0bfc342d7a",
       "version_major": 2,
       "version_minor": 0
      },
      "text/plain": [
       "VBox(children=(Label(value='Drug prescription prediction for age, gender, bp, cholesterol and \"Na to K\"'), Bou…"
      ]
     },
     "metadata": {},
     "output_type": "display_data"
    }
   ],
   "source": [
    "import requests as r\n",
    "from ipywidgets import Label, BoundedFloatText, BoundedIntText, Dropdown, Button, Output, VBox\n",
    "\n",
    "prescribe_label = Label('Spam Detection ml models')\n",
    "age_text = BoundedIntText(min=16, max=100, value=47, description=\"message:\", disabled=False)\n",
    "prescribe_button = Button(description=\"Presribe\")\n",
    "prescribe_output = Output()\n",
    "\n",
    "# Button click event handlers ...\n",
    "def prescribe_button_on_click(b):\n",
    "    item ={\n",
    "      \"Age\": \n",
    "         age_text.value\n",
    "    }\n",
    "    prediction = r.post(\"http://127.0.0.1:4000/predict-fraud\",  json=item)\n",
    "    recommended_drug = prediction.json()\n",
    "    prescribe_output.clear_output()\n",
    "    with prescribe_output:\n",
    "\n",
    "        print(f\"The recommended drug is {recommended_drug}\")\n",
    "        \n",
    "prescribe_button.on_click(prescribe_button_on_click)\n",
    "vbox_prescribe = VBox([prescribe_label, age_text, gender_dropdown, bp_dropdown, cholesterol_dropdown, na_to_k_text, prescribe_button, prescribe_output])\n",
    "vbox_prescribe"
   ]
  },
  {
   "cell_type": "markdown",
   "metadata": {},
   "source": [
    "# Expand :\n",
    "let me do it correctly ."
   ]
  },
  {
   "cell_type": "code",
   "execution_count": 2,
   "metadata": {},
   "outputs": [],
   "source": [
    "!pip install -q pyngrok "
   ]
  }
 ],
 "metadata": {
  "kernelspec": {
   "display_name": "Python 3",
   "language": "python",
   "name": "python3"
  },
  "language_info": {
   "codemirror_mode": {
    "name": "ipython",
    "version": 3
   },
   "file_extension": ".py",
   "mimetype": "text/x-python",
   "name": "python",
   "nbconvert_exporter": "python",
   "pygments_lexer": "ipython3",
   "version": "3.8.8"
  }
 },
 "nbformat": 4,
 "nbformat_minor": 4
}
