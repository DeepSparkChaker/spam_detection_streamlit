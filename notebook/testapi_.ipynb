{
 "cells": [
  {
   "cell_type": "markdown",
   "metadata": {},
   "source": [
    "# Use jupyter to test "
   ]
  },
  {
   "cell_type": "code",
   "execution_count": 1,
   "metadata": {},
   "outputs": [
    {
     "data": {
      "text/html": [
       "\n",
       "        <script>\n",
       "            function code_toggle_5640463687837557196() {\n",
       "                $('div.cell.code_cell.rendered.selected').find('div.input').toggle();\n",
       "            }\n",
       "\n",
       "            \n",
       "        </script>\n",
       "\n",
       "        <a href=\"javascript:code_toggle_5640463687837557196()\">Toggle show/hide</a>\n",
       "    "
      ],
      "text/plain": [
       "<IPython.core.display.HTML object>"
      ]
     },
     "execution_count": 1,
     "metadata": {},
     "output_type": "execute_result"
    }
   ],
   "source": [
    "from IPython.display import HTML\n",
    "import random\n",
    "\n",
    "def hide_toggle(for_next=False):\n",
    "    this_cell = \"\"\"$('div.cell.code_cell.rendered.selected')\"\"\"\n",
    "    next_cell = this_cell + '.next()'\n",
    "\n",
    "    toggle_text = 'Toggle show/hide'  # text shown on toggle link\n",
    "    target_cell = this_cell  # target cell to control with toggle\n",
    "    js_hide_current = ''  # bit of JS to permanently hide code in current cell (only when toggling next cell)\n",
    "\n",
    "    if for_next:\n",
    "        target_cell = next_cell\n",
    "        toggle_text += ' next cell'\n",
    "        js_hide_current = this_cell + '.find(\"div.input\").hide();'\n",
    "\n",
    "    js_f_name = 'code_toggle_{}'.format(str(random.randint(1,2**64)))\n",
    "\n",
    "    html = \"\"\"\n",
    "        <script>\n",
    "            function {f_name}() {{\n",
    "                {cell_selector}.find('div.input').toggle();\n",
    "            }}\n",
    "\n",
    "            {js_hide_current}\n",
    "        </script>\n",
    "\n",
    "        <a href=\"javascript:{f_name}()\">{toggle_text}</a>\n",
    "    \"\"\".format(\n",
    "        f_name=js_f_name,\n",
    "        cell_selector=target_cell,\n",
    "        js_hide_current=js_hide_current, \n",
    "        toggle_text=toggle_text)\n",
    "\n",
    "    return HTML(html)\n",
    "hide_toggle()"
   ]
  },
  {
   "cell_type": "code",
   "execution_count": 2,
   "metadata": {},
   "outputs": [
    {
     "name": "stdout",
     "output_type": "stream",
     "text": [
      "Result is 1 + 2\n"
     ]
    },
    {
     "data": {
      "text/html": [
       "\n",
       "        <script>\n",
       "            function code_toggle_7105532683190339636() {\n",
       "                $('div.cell.code_cell.rendered.selected').find('div.input').toggle();\n",
       "            }\n",
       "\n",
       "            \n",
       "        </script>\n",
       "\n",
       "        <a href=\"javascript:code_toggle_7105532683190339636()\">Toggle show/hide</a>\n",
       "    "
      ],
      "text/plain": [
       "<IPython.core.display.HTML object>"
      ]
     },
     "execution_count": 2,
     "metadata": {},
     "output_type": "execute_result"
    }
   ],
   "source": [
    "x = 1\n",
    "y = 2\n",
    "print('Result is {} + {}'.format(x, y))\n",
    "\n",
    "hide_toggle()"
   ]
  },
  {
   "cell_type": "code",
   "execution_count": null,
   "metadata": {},
   "outputs": [],
   "source": [
    "# hide_toggle(for_next=True)"
   ]
  },
  {
   "cell_type": "code",
   "execution_count": 3,
   "metadata": {},
   "outputs": [
    {
     "data": {
      "text/html": [
       "\n",
       "        <script>\n",
       "            function code_toggle_5527004677653210229() {\n",
       "                $('div.cell.code_cell.rendered.selected').next().find('div.input').toggle();\n",
       "            }\n",
       "\n",
       "            $('div.cell.code_cell.rendered.selected').find(\"div.input\").hide();\n",
       "        </script>\n",
       "\n",
       "        <a href=\"javascript:code_toggle_5527004677653210229()\">Toggle show/hide next cell</a>\n",
       "    "
      ],
      "text/plain": [
       "<IPython.core.display.HTML object>"
      ]
     },
     "execution_count": 3,
     "metadata": {},
     "output_type": "execute_result"
    }
   ],
   "source": [
    "hide_toggle(for_next=True)"
   ]
  },
  {
   "cell_type": "code",
   "execution_count": 5,
   "metadata": {},
   "outputs": [
    {
     "data": {
      "application/vnd.jupyter.widget-view+json": {
       "model_id": "3ad5d31cc33646ca8563562a41a4aad7",
       "version_major": 2,
       "version_minor": 0
      },
      "text/plain": [
       "VBox(children=(Label(value='Spam Detection ml models'), Text(value='', description='String:', placeholder='Pas…"
      ]
     },
     "metadata": {},
     "output_type": "display_data"
    }
   ],
   "source": [
    "import requests as r\n",
    "from ipywidgets import Label, BoundedFloatText, BoundedIntText, Dropdown, Button, Output, VBox,widgets\n",
    "prescribe_label = Label('Spam Detection ml models')\n",
    "age_text = widgets.Text(\n",
    "    value='',\n",
    "    placeholder='Paste your  description here!',\n",
    "    description='String:',\n",
    "    disabled=False\n",
    ")\n",
    "prescribe_button = Button(description=\"Presribe\")\n",
    "prescribe_output = Output()\n",
    "\n",
    "# Button click event handlers ...\n",
    "def prescribe_button_on_click(b):\n",
    "    item ={\n",
    "      \"message\": \n",
    "         age_text.value\n",
    "    }\n",
    "    prediction = r.post(\"http://192.168.99.100:8000/predict-spam\",  json=item)\n",
    "    recommended_spam = prediction.json()\n",
    "    prescribe_output.clear_output()\n",
    "    with prescribe_output:\n",
    "\n",
    "        print(f\"The analyse of message is {recommended_spam}\")\n",
    "prescribe_button.on_click(prescribe_button_on_click)\n",
    "vbox_prescribe = VBox([prescribe_label, age_text,prescribe_button, prescribe_output ])\n",
    "vbox_prescribe"
   ]
  },
  {
   "cell_type": "markdown",
   "metadata": {},
   "source": [
    "# Streamlit : \n"
   ]
  },
  {
   "cell_type": "code",
   "execution_count": 15,
   "metadata": {},
   "outputs": [
    {
     "name": "stdout",
     "output_type": "stream",
     "text": [
      "Overwriting streamlit_spam.py\n"
     ]
    }
   ],
   "source": [
    "%%writefile streamlit_spam.py\n",
    "import streamlit as st\n",
    "import requests as r\n",
    "import seaborn as sns\n",
    "import matplotlib.pyplot as plt\n",
    "import joblib\n",
    "import re \n",
    "\n",
    "st.title('Spam Detection  App')\n",
    "st.write('*Note: it will take up to 30 seconds to run the app.*')\n",
    "form = st.form(key='message-form')\n",
    "user_input = form.text_area('Enter your text')\n",
    "submit = form.form_submit_button('Submit')\n",
    "\n",
    "#load model data\n",
    "url = \"C:/Users/rzouga/Desktop/ALLINHERE/ALLINHERE/Deploy_Spam_Detection/models/spam_classifier.joblib\"\n",
    "#f = \"C:/Users/rzouga/Desktop/ALLINHERE/ALLINHERE/FraudDetection/DeployPipeComplet/models/pipeline_model_lgbm_final.joblib\"\n",
    "# download model from Dropbox, cache it and load the model into the app\n",
    "@st.cache(allow_output_mutation=True)\n",
    "def load_model(url):\n",
    "    model = joblib.load(url)\n",
    "    return model   \n",
    "# Preprocess Heleper \n",
    "def preprocessor(text):\n",
    "    text = re.sub('<[^>]*>', '', text) # Effectively removes HTML markup tags\n",
    "    emoticons = re.findall('(?::|;|=)(?:-)?(?:\\)|\\(|D|P)', text)\n",
    "    text = re.sub('[\\W]+', ' ', text.lower()) + ' '.join(emoticons).replace('-', '')\n",
    "    return text\n",
    "\n",
    "if submit:\n",
    "    fig, ax = plt.subplots()\n",
    "    model = load_model(url)\n",
    "    message = preprocessor(user_input)\n",
    "    label = model.predict([message])[0]\n",
    "    score = model.predict_proba([message])[0][1]\n",
    "    if label == 'ham':\n",
    "        st.success(f'This is a {label} : (score: {score})')\n",
    "    else:\n",
    "        st.error(f'OOPS it is a {label} : (score: {score})')\n",
    "        \n",
    "    classes = {0:'ham',1:'spam'}\n",
    "    class_labels = list(classes.values())\n",
    "\n",
    "    st.write(\"The predicted class is \",label)\n",
    "    prob_ham= 1-score\n",
    "    prob_spam = score\n",
    "    probs = [prob_ham,prob_spam]\n",
    "    ax = sns.barplot(probs ,class_labels, palette=\"winter\", orient='h')\n",
    "    ax.set_yticklabels(class_labels,rotation=0)\n",
    "    plt.title(\"Probabilities of the Data belonging to each class\")\n",
    "    for index, value in enumerate(probs):\n",
    "        plt.text(value, index,str(value))\n",
    "    st.pyplot(fig) "
   ]
  },
  {
   "cell_type": "code",
   "execution_count": 13,
   "metadata": {},
   "outputs": [
    {
     "name": "stdout",
     "output_type": "stream",
     "text": [
      "^C\n"
     ]
    }
   ],
   "source": [
    "!streamlit run streamlit_spam.py  "
   ]
  },
  {
   "cell_type": "code",
   "execution_count": 17,
   "metadata": {},
   "outputs": [],
   "source": [
    "import streamlit as st\n",
    "import requests as r\n",
    "import seaborn as sns\n",
    "import matplotlib.pyplot as plt\n",
    "import joblib\n",
    "import re "
   ]
  },
  {
   "cell_type": "code",
   "execution_count": 18,
   "metadata": {},
   "outputs": [
    {
     "data": {
      "text/html": [
       "<details>\n",
       "<summary>Click to view session information</summary>\n",
       "<pre>\n",
       "-----\n",
       "joblib              1.0.1\n",
       "matplotlib          3.3.4\n",
       "requests            2.25.1\n",
       "seaborn             0.11.1\n",
       "session_info        1.0.0\n",
       "streamlit           1.4.0\n",
       "-----\n",
       "</pre>\n",
       "<details>\n",
       "<summary>Click to view modules imported as dependencies</summary>\n",
       "<pre>\n",
       "PIL                         8.2.0\n",
       "altair                      4.2.0\n",
       "anyio                       NA\n",
       "attr                        20.3.0\n",
       "babel                       2.9.0\n",
       "backcall                    0.2.0\n",
       "backports                   NA\n",
       "base58                      2.1.1\n",
       "blinker                     1.4\n",
       "bottleneck                  1.3.2\n",
       "brotli                      NA\n",
       "cachetools                  5.0.0\n",
       "certifi                     2020.12.05\n",
       "cffi                        1.14.5\n",
       "chardet                     4.0.0\n",
       "click                       7.1.2\n",
       "cloudpickle                 1.6.0\n",
       "colorama                    0.4.3\n",
       "cycler                      0.10.0\n",
       "cython_runtime              NA\n",
       "dateutil                    2.8.1\n",
       "decorator                   5.0.6\n",
       "entrypoints                 0.3\n",
       "google                      NA\n",
       "idna                        2.10\n",
       "ipykernel                   5.3.4\n",
       "ipython_genutils            0.2.0\n",
       "ipywidgets                  7.6.3\n",
       "jedi                        0.17.2\n",
       "jinja2                      2.11.3\n",
       "json5                       NA\n",
       "jsonschema                  3.2.0\n",
       "jupyter_server              1.4.1\n",
       "jupyterlab_server           2.4.0\n",
       "kiwisolver                  1.3.1\n",
       "markupsafe                  2.0.1\n",
       "mpl_toolkits                NA\n",
       "nbclassic                   NA\n",
       "nbformat                    5.1.3\n",
       "nt                          NA\n",
       "ntsecuritycon               NA\n",
       "numpy                       1.19.5\n",
       "packaging                   21.3\n",
       "pandas                      1.2.4\n",
       "parso                       0.7.0\n",
       "pickleshare                 0.7.5\n",
       "pkg_resources               NA\n",
       "prometheus_client           NA\n",
       "prompt_toolkit              3.0.17\n",
       "psutil                      5.8.0\n",
       "pvectorc                    NA\n",
       "pyarrow                     6.0.1\n",
       "pygments                    2.8.1\n",
       "pympler                     1.0.1\n",
       "pyparsing                   2.4.7\n",
       "pyrsistent                  NA\n",
       "pythoncom                   NA\n",
       "pytz                        2021.1\n",
       "pytz_deprecation_shim       NA\n",
       "pywintypes                  NA\n",
       "scipy                       1.6.2\n",
       "send2trash                  NA\n",
       "six                         1.15.0\n",
       "sniffio                     1.2.0\n",
       "socks                       1.7.1\n",
       "sphinxcontrib               NA\n",
       "statsmodels                 0.12.2\n",
       "storemagic                  NA\n",
       "toml                        0.10.2\n",
       "toolz                       0.11.1\n",
       "tornado                     6.1\n",
       "traitlets                   5.0.5\n",
       "typing_extensions           NA\n",
       "tzlocal                     NA\n",
       "urllib3                     1.26.4\n",
       "validators                  0.18.2\n",
       "watchdog                    NA\n",
       "wcwidth                     0.2.5\n",
       "win32api                    NA\n",
       "win32com                    NA\n",
       "win32security               NA\n",
       "zmq                         20.0.0\n",
       "zope                        NA\n",
       "</pre>\n",
       "</details> <!-- seems like this ends pre, so might as well be explicit -->\n",
       "<pre>\n",
       "-----\n",
       "IPython             7.22.0\n",
       "jupyter_client      6.1.12\n",
       "jupyter_core        4.7.1\n",
       "jupyterlab          3.0.14\n",
       "notebook            6.3.0\n",
       "-----\n",
       "Python 3.8.8 (default, Apr 13 2021, 15:08:03) [MSC v.1916 64 bit (AMD64)]\n",
       "Windows-7-6.1.7601-SP1\n",
       "-----\n",
       "Session information updated at 2022-01-29 19:28\n",
       "</pre>\n",
       "</details>"
      ],
      "text/plain": [
       "<IPython.core.display.HTML object>"
      ]
     },
     "execution_count": 18,
     "metadata": {},
     "output_type": "execute_result"
    }
   ],
   "source": [
    "import session_info\n",
    "session_info.show()"
   ]
  }
 ],
 "metadata": {
  "kernelspec": {
   "display_name": "Python 3",
   "language": "python",
   "name": "python3"
  },
  "language_info": {
   "codemirror_mode": {
    "name": "ipython",
    "version": 3
   },
   "file_extension": ".py",
   "mimetype": "text/x-python",
   "name": "python",
   "nbconvert_exporter": "python",
   "pygments_lexer": "ipython3",
   "version": "3.8.8"
  }
 },
 "nbformat": 4,
 "nbformat_minor": 4
}
